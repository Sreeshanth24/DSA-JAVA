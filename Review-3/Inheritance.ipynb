{
 "cells": [
  {
   "cell_type": "code",
   "execution_count": 1,
   "id": "934bbf5a-8494-4b63-b203-7225291c430a",
   "metadata": {},
   "outputs": [
    {
     "name": "stdout",
     "output_type": "stream",
     "text": [
      "Fixed Timer Green Light: 30 seconds for all directions.\n"
     ]
    },
    {
     "name": "stdin",
     "output_type": "stream",
     "text": [
      "Enter the row number:  4\n"
     ]
    },
    {
     "name": "stdout",
     "output_type": "stream",
     "text": [
      "Traffic Data: {'North': 11, 'South': 2, 'East': 1, 'West': 34}\n",
      "Priority Order (Descending Vehicles): [('West', 34), ('North', 11), ('South', 2), ('East', 1)]\n",
      "Green Light Timing (approximate in seconds):\n",
      "West: 42.5 seconds\n",
      "North: 13.75 seconds\n",
      "South: 2.5 seconds\n",
      "East: 1.25 seconds\n"
     ]
    }
   ],
   "source": [
    "import pandas as pd\n",
    "\n",
    "\n",
    "class FixedTimerTrafficLight:\n",
    "    def __init__(self, file_path):\n",
    "        self.data = pd.read_csv(file_path)\n",
    "    \n",
    "    def get_traffic_data(self, row_number):\n",
    "        if row_number < 0 or row_number >= len(self.data):\n",
    "            print(\"Invalid row number\")\n",
    "            return None\n",
    "        return self.data.iloc[row_number]\n",
    "    \n",
    "    def fixed_timer(self):\n",
    "       \n",
    "        print(\"Fixed Timer Green Light: 30 seconds for all directions.\")\n",
    "\n",
    "\n",
    "class IntelligentTrafficLight(FixedTimerTrafficLight):\n",
    "    def __init__(self, file_path):\n",
    "        super().__init__(file_path)  \n",
    "    \n",
    "    def calculate_green_light(self, row_number):\n",
    "        traffic_data = self.get_traffic_data(row_number)\n",
    "        if traffic_data is None:\n",
    "            return\n",
    "        \n",
    "        # Extract vehicle counts\n",
    "        directions = {\"North\": traffic_data[\"North\"], \"South\": traffic_data[\"South\"], \n",
    "                      \"East\": traffic_data[\"East\"], \"West\": traffic_data[\"West\"]}\n",
    "        \n",
    "        # Sort directions by vehicle count in descending order\n",
    "        sorted_directions = sorted(directions.items(), key=lambda x: x[1], reverse=True)\n",
    "        \n",
    "        print(\"Traffic Data:\", directions)\n",
    "        print(\"Priority Order (Descending Vehicles):\", sorted_directions)\n",
    "        \n",
    "        # Assign green light duration (higher vehicles → longer duration)\n",
    "        max_time = 60  # Maximum time allocation (e.g., 60 seconds)\n",
    "        total_vehicles = sum(directions.values())\n",
    "        \n",
    "        if total_vehicles == 0:\n",
    "            print(\"No vehicles detected. Default timing applied.\")\n",
    "            return\n",
    "        \n",
    "        print(\"Green Light Timing (approximate in seconds):\")\n",
    "        for direction, count in sorted_directions:\n",
    "            time_allocation = (count / total_vehicles) * max_time\n",
    "            print(f\"{direction}: {round(time_allocation, 2)} seconds\")\n",
    "\n",
    "# Provide the path to the dataset\n",
    "file_path = \"C:/Users/srees/OneDrive/Desktop/Sem_2_projects/DSA/TrafficDataset.csv\" # Update with the actual path\n",
    "\n",
    "# Create an instance of the IntelligentTrafficLight system (which has both fixed and dynamic timers)\n",
    "traffic_system = IntelligentTrafficLight(file_path)\n",
    "\n",
    "# First, use the fixed timer method (inherited from FixedTimerTrafficLight)\n",
    "traffic_system.fixed_timer()\n",
    "\n",
    "# Example: Get green light timing for user-inputted row index\n",
    "row_index = int(input(\"Enter the row number: \"))\n",
    "traffic_system.calculate_green_light(row_index)\n"
   ]
  }
 ],
 "metadata": {
  "kernelspec": {
   "display_name": "Python 3 (ipykernel)",
   "language": "python",
   "name": "python3"
  },
  "language_info": {
   "codemirror_mode": {
    "name": "ipython",
    "version": 3
   },
   "file_extension": ".py",
   "mimetype": "text/x-python",
   "name": "python",
   "nbconvert_exporter": "python",
   "pygments_lexer": "ipython3",
   "version": "3.12.4"
  }
 },
 "nbformat": 4,
 "nbformat_minor": 5
}
